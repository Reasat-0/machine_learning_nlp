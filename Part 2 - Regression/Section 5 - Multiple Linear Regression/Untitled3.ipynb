{
 "cells": [
  {
   "cell_type": "code",
   "execution_count": 28,
   "metadata": {},
   "outputs": [
    {
     "data": {
      "text/plain": [
       "array([[     1, 165349],\n",
       "       [     1, 162597],\n",
       "       [     1, 153441],\n",
       "       [     1, 144372],\n",
       "       [     1, 142107],\n",
       "       [     1, 131876],\n",
       "       [     1, 134615],\n",
       "       [     1, 130298],\n",
       "       [     1, 120542],\n",
       "       [     1, 123334],\n",
       "       [     1, 101913],\n",
       "       [     1, 100671],\n",
       "       [     1,  93863],\n",
       "       [     1,  91992],\n",
       "       [     1, 119943],\n",
       "       [     1, 114523],\n",
       "       [     1,  78013],\n",
       "       [     1,  94657],\n",
       "       [     1,  91749],\n",
       "       [     1,  86419],\n",
       "       [     1,  76253],\n",
       "       [     1,  78389],\n",
       "       [     1,  73994],\n",
       "       [     1,  67532],\n",
       "       [     1,  77044],\n",
       "       [     1,  64664],\n",
       "       [     1,  75328],\n",
       "       [     1,  72107],\n",
       "       [     1,  66051],\n",
       "       [     1,  65605],\n",
       "       [     1,  61994],\n",
       "       [     1,  61136],\n",
       "       [     1,  63408],\n",
       "       [     1,  55493],\n",
       "       [     1,  46426],\n",
       "       [     1,  46014],\n",
       "       [     1,  28663],\n",
       "       [     1,  44069],\n",
       "       [     1,  20229],\n",
       "       [     1,  38558],\n",
       "       [     1,  28754],\n",
       "       [     1,  27892],\n",
       "       [     1,  23640],\n",
       "       [     1,  15505],\n",
       "       [     1,  22177],\n",
       "       [     1,   1000],\n",
       "       [     1,   1315],\n",
       "       [     1,      0],\n",
       "       [     1,    542],\n",
       "       [     1,      0]])"
      ]
     },
     "execution_count": 28,
     "metadata": {},
     "output_type": "execute_result"
    }
   ],
   "source": [
    "x_optimal"
   ]
  }
 ],
 "metadata": {
  "kernelspec": {
   "display_name": "Python 3",
   "language": "python",
   "name": "python3"
  },
  "language_info": {
   "codemirror_mode": {
    "name": "ipython",
    "version": 3
   },
   "file_extension": ".py",
   "mimetype": "text/x-python",
   "name": "python",
   "nbconvert_exporter": "python",
   "pygments_lexer": "ipython3",
   "version": "3.7.1"
  }
 },
 "nbformat": 4,
 "nbformat_minor": 2
}
